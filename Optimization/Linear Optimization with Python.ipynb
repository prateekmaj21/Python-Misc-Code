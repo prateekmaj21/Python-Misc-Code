{
 "cells": [
  {
   "cell_type": "markdown",
   "id": "c4e261dd-340d-4f52-a8f1-3083a92a5b04",
   "metadata": {},
   "source": [
    "## Linear Optimization with Python (PuLP)"
   ]
  },
  {
   "cell_type": "code",
   "execution_count": 1,
   "id": "df142dba-6961-4fa4-be78-362a47cd2676",
   "metadata": {},
   "outputs": [],
   "source": [
    "from IPython.display import Image"
   ]
  },
  {
   "cell_type": "markdown",
   "id": "c1d72461-cd10-4292-835c-8f6365132238",
   "metadata": {},
   "source": [
    "## Question 1"
   ]
  },
  {
   "cell_type": "markdown",
   "id": "18e8eb12-c0aa-49ed-bee3-edaed2b69f49",
   "metadata": {},
   "source": [
    "![title](q1.png)"
   ]
  },
  {
   "cell_type": "code",
   "execution_count": 2,
   "id": "88622286-8feb-491d-90b5-74f2eb1153b9",
   "metadata": {},
   "outputs": [],
   "source": [
    "import pulp as p"
   ]
  },
  {
   "cell_type": "code",
   "execution_count": 3,
   "id": "bce95c4f-04c6-46ea-b744-1f771b69e3b6",
   "metadata": {},
   "outputs": [],
   "source": [
    "Lp_prob = p.LpProblem('Max', p.LpMaximize)"
   ]
  },
  {
   "cell_type": "markdown",
   "id": "658462f6-2408-48ef-a115-bfa556f14f26",
   "metadata": {},
   "source": [
    "### Decision Variables"
   ]
  },
  {
   "cell_type": "code",
   "execution_count": 4,
   "id": "960cda51-c375-4f92-8581-336d3fae9203",
   "metadata": {},
   "outputs": [],
   "source": [
    "x1 = p.LpVariable(\"x1\", lowBound = 0) # Create a variable x1 >= 0\n",
    "x2 = p.LpVariable(\"x2\", lowBound = 0) # Create a variable x2 >= 0\n",
    "x3 = p.LpVariable(\"x3\", lowBound = 0) # Create a variable x3 >= 0"
   ]
  },
  {
   "cell_type": "markdown",
   "id": "810e3781-2a1a-4faa-9b14-b3e9c79e8171",
   "metadata": {},
   "source": [
    "### Objective Function"
   ]
  },
  {
   "cell_type": "code",
   "execution_count": 5,
   "id": "1c8b3214-2823-457a-b083-94358ba8588e",
   "metadata": {},
   "outputs": [],
   "source": [
    "Lp_prob += 1600*x1 + 1300*x2 + 600*x3"
   ]
  },
  {
   "cell_type": "markdown",
   "id": "e50ae625-1d86-4e4e-b130-06c71fe8b32b",
   "metadata": {},
   "source": [
    "### Constraints"
   ]
  },
  {
   "cell_type": "code",
   "execution_count": 6,
   "id": "b9f763d7-15bb-4f8d-ae58-d5317b3bb358",
   "metadata": {},
   "outputs": [],
   "source": [
    "Lp_prob += 2*x1 + 1.5*x2 + x3 <= 20\n",
    "Lp_prob += 2*x1 + x2 + 1.5*x3 <= 24\n",
    "Lp_prob += x1 + 2*x2 + 0.5*x3 <= 20"
   ]
  },
  {
   "cell_type": "code",
   "execution_count": 7,
   "id": "fa17e3e7-916b-455c-ba90-b45da990c82c",
   "metadata": {},
   "outputs": [
    {
     "name": "stdout",
     "output_type": "stream",
     "text": [
      "Max:\n",
      "MAXIMIZE\n",
      "1600*x1 + 1300*x2 + 600*x3 + 0\n",
      "SUBJECT TO\n",
      "_C1: 2 x1 + 1.5 x2 + x3 <= 20\n",
      "\n",
      "_C2: 2 x1 + x2 + 1.5 x3 <= 24\n",
      "\n",
      "_C3: x1 + 2 x2 + 0.5 x3 <= 20\n",
      "\n",
      "VARIABLES\n",
      "x1 Continuous\n",
      "x2 Continuous\n",
      "x3 Continuous\n",
      "\n"
     ]
    }
   ],
   "source": [
    "print(Lp_prob)"
   ]
  },
  {
   "cell_type": "markdown",
   "id": "10e5c8dd-e967-4b6b-8831-6519f32bb5d9",
   "metadata": {},
   "source": [
    "### Solving the LPP"
   ]
  },
  {
   "cell_type": "code",
   "execution_count": 8,
   "id": "5a7099e1-8dfe-401c-a54b-f542e137401a",
   "metadata": {},
   "outputs": [
    {
     "name": "stdout",
     "output_type": "stream",
     "text": [
      "Optimal\n"
     ]
    }
   ],
   "source": [
    "status = Lp_prob.solve()\n",
    "print(p.LpStatus[status])"
   ]
  },
  {
   "cell_type": "code",
   "execution_count": 9,
   "id": "35ea1344-4969-4180-bc6a-27276ab18a54",
   "metadata": {},
   "outputs": [
    {
     "name": "stdout",
     "output_type": "stream",
     "text": [
      "x1 = 4.0\n",
      "x2 = 8.0\n",
      "x3 = 0.0\n",
      "Objective =  16800.0\n"
     ]
    }
   ],
   "source": [
    "print(\"x1 =\", p.value(x1)) \n",
    "print(\"x2 =\", p.value(x2))\n",
    "print(\"x3 =\", p.value(x3))\n",
    "print(\"Objective = \", p.value(Lp_prob.objective))"
   ]
  }
 ],
 "metadata": {
  "kernelspec": {
   "display_name": "Python 3 (ipykernel)",
   "language": "python",
   "name": "python3"
  },
  "language_info": {
   "codemirror_mode": {
    "name": "ipython",
    "version": 3
   },
   "file_extension": ".py",
   "mimetype": "text/x-python",
   "name": "python",
   "nbconvert_exporter": "python",
   "pygments_lexer": "ipython3",
   "version": "3.11.7"
  }
 },
 "nbformat": 4,
 "nbformat_minor": 5
}
